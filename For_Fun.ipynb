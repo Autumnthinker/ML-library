{
  "nbformat": 4,
  "nbformat_minor": 0,
  "metadata": {
    "colab": {
      "name": "For Fun",
      "provenance": [],
      "collapsed_sections": []
    },
    "kernelspec": {
      "name": "python3",
      "display_name": "Python 3"
    }
  },
  "cells": [
    {
      "cell_type": "code",
      "metadata": {
        "id": "iV2YWuxv5H-N",
        "colab_type": "code",
        "colab": {}
      },
      "source": [
        "from itertools import combinations\n",
        "import matplotlib.pyplot as plt\n",
        "from collections import Counter\n",
        "from scipy.special import comb\n",
        "import numpy as np\n",
        "import time"
      ],
      "execution_count": 0,
      "outputs": []
    },
    {
      "cell_type": "code",
      "metadata": {
        "id": "dHXHVYFT6Lp8",
        "colab_type": "code",
        "colab": {}
      },
      "source": [
        "extra = (2, 2, 12, 12, 5)                    \n",
        "## Extra card except the 12*13 standard num\n",
        "card = [[i] * 12 for i in range(1, 14, 1)]   \n",
        "## 12*13\n",
        "card = np.reshape(card, 156)                \n",
        "card = np.append(card, extra)"
      ],
      "execution_count": 0,
      "outputs": []
    },
    {
      "cell_type": "code",
      "metadata": {
        "id": "rb2YZEy5X7wD",
        "colab_type": "code",
        "outputId": "b1e7424a-8788-43a9-b771-e2f2b2b860c5",
        "colab": {
          "base_uri": "https://localhost:8080/",
          "height": 187
        }
      },
      "source": [
        "print(\"Total number of cards is : \", len(card))\n",
        "print('')\n",
        "print(\"The Deck : \")\n",
        "print(np.sort(card))"
      ],
      "execution_count": 3,
      "outputs": [
        {
          "output_type": "stream",
          "text": [
            "Total number of cards is :  161\n",
            "\n",
            "The Deck : \n",
            "[ 1  1  1  1  1  1  1  1  1  1  1  1  2  2  2  2  2  2  2  2  2  2  2  2\n",
            "  2  2  3  3  3  3  3  3  3  3  3  3  3  3  4  4  4  4  4  4  4  4  4  4\n",
            "  4  4  5  5  5  5  5  5  5  5  5  5  5  5  5  6  6  6  6  6  6  6  6  6\n",
            "  6  6  6  7  7  7  7  7  7  7  7  7  7  7  7  8  8  8  8  8  8  8  8  8\n",
            "  8  8  8  9  9  9  9  9  9  9  9  9  9  9  9 10 10 10 10 10 10 10 10 10\n",
            " 10 10 10 11 11 11 11 11 11 11 11 11 11 11 11 12 12 12 12 12 12 12 12 12\n",
            " 12 12 12 12 12 13 13 13 13 13 13 13 13 13 13 13 13]\n"
          ],
          "name": "stdout"
        }
      ]
    },
    {
      "cell_type": "code",
      "metadata": {
        "id": "osiqVKkWETTK",
        "colab_type": "code",
        "outputId": "f1f5a47d-625f-417b-a335-f5f89c27c992",
        "colab": {
          "base_uri": "https://localhost:8080/",
          "height": 34
        }
      },
      "source": [
        "print(\"Number of all the events/possibilities : \", int(comb(len(card), 4)))"
      ],
      "execution_count": 4,
      "outputs": [
        {
          "output_type": "stream",
          "text": [
            "Number of all the events/possibilities :  26964280\n"
          ],
          "name": "stdout"
        }
      ]
    },
    {
      "cell_type": "code",
      "metadata": {
        "id": "EGx7Z9E8dwyN",
        "colab_type": "code",
        "colab": {}
      },
      "source": [
        "ls = combinations(card, 4)\n",
        "## It seems that list is faster than numpy for such situation\n",
        "\n",
        "F_card_num = [0] * int(comb(len(card), 4))   \n",
        "## Number of First Player's Drawn Cards\n",
        "Range_card = [0] * int(comb(len(card), 4))   \n",
        "## Range of Four cards' Number"
      ],
      "execution_count": 0,
      "outputs": []
    },
    {
      "cell_type": "code",
      "metadata": {
        "id": "NaSBi4H3d6pd",
        "colab_type": "code",
        "colab": {
          "base_uri": "https://localhost:8080/",
          "height": 34
        },
        "outputId": "9bfaa8e9-282a-4cf3-8403-bae06c452075"
      },
      "source": [
        "start = time.clock()\n",
        "\n",
        "i = 0\n",
        "for l in ls:\n",
        "   F_card = np.where( (l == np.max(l)) | (l == np.min(l)) )[0]\n",
        "   F_card_num[i] = len(F_card)\n",
        "   Range_card[i] = np.max(l) - np.min(l)\n",
        "   i += 1\n",
        "\n",
        "end = time.clock()\n",
        "print (\"Total Running Time(TUT) : \", end-start)\n"
      ],
      "execution_count": 6,
      "outputs": [
        {
          "output_type": "stream",
          "text": [
            "Total Running Time(TUT) :  953.263362\n"
          ],
          "name": "stdout"
        }
      ]
    },
    {
      "cell_type": "code",
      "metadata": {
        "id": "pLbNQvRDfHTF",
        "colab_type": "code",
        "outputId": "beeca5a6-e392-4f11-e17c-43274a935c42",
        "colab": {
          "base_uri": "https://localhost:8080/",
          "height": 34
        }
      },
      "source": [
        "F_card_num = np.array(F_card_num)\n",
        "print(\"Expectation of First Player's Drawn Cards : \", np.mean(F_card_num))"
      ],
      "execution_count": 7,
      "outputs": [
        {
          "output_type": "stream",
          "text": [
            "Expectation of First Player's Drawn Cards :  2.2961608468685237\n"
          ],
          "name": "stdout"
        }
      ]
    },
    {
      "cell_type": "code",
      "metadata": {
        "id": "f2Ytj0YNfkSG",
        "colab_type": "code",
        "colab": {
          "base_uri": "https://localhost:8080/",
          "height": 34
        },
        "outputId": "5efbbf58-6113-480c-acf4-23562f500a0b"
      },
      "source": [
        "F_card_count = Counter(F_card_num)       \n",
        "## Count of number of cards for the first player\n",
        "for i in range(2, 5) :  \n",
        "    F_card_count[i] = np.round(F_card_count[i]/len(F_card_num), 4)\n",
        "F_card_count"
      ],
      "execution_count": 8,
      "outputs": [
        {
          "output_type": "execute_result",
          "data": {
            "text/plain": [
              "Counter({2: 0.7363, 3: 0.2313, 4: 0.0324})"
            ]
          },
          "metadata": {
            "tags": []
          },
          "execution_count": 8
        }
      ]
    },
    {
      "cell_type": "code",
      "metadata": {
        "id": "sVGwZvRhzJ10",
        "colab_type": "code",
        "colab": {}
      },
      "source": [
        "S_chance = np.where(F_card_num == 2)[0]  \n",
        "##Chances when second player could draw cards\n",
        "Range_card = np.array(Range_card)        \n",
        "Range_two_card = Range_card[S_chance]"
      ],
      "execution_count": 0,
      "outputs": []
    },
    {
      "cell_type": "code",
      "metadata": {
        "id": "5CIARD7AYKhG",
        "colab_type": "code",
        "colab": {
          "base_uri": "https://localhost:8080/",
          "height": 204
        },
        "outputId": "dde1d253-5684-49c2-d903-c03a4d23f2b6"
      },
      "source": [
        "count_two_range = Counter(Range_two_card)  \n",
        "## Count of range for two cards events\n",
        "for i in range(2, 13) :  \n",
        "    count_two_range[i] = np.round(count_two_range[i]/len(Range_two_card), 4)\n",
        "count_two_range"
      ],
      "execution_count": 10,
      "outputs": [
        {
          "output_type": "execute_result",
          "data": {
            "text/plain": [
              "Counter({2: 0.006,\n",
              "         3: 0.0221,\n",
              "         4: 0.0453,\n",
              "         5: 0.0717,\n",
              "         6: 0.0988,\n",
              "         7: 0.1235,\n",
              "         8: 0.1422,\n",
              "         9: 0.1492,\n",
              "         10: 0.1467,\n",
              "         11: 0.127,\n",
              "         12: 0.0676})"
            ]
          },
          "metadata": {
            "tags": []
          },
          "execution_count": 10
        }
      ]
    },
    {
      "cell_type": "code",
      "metadata": {
        "id": "m9ro9PWLtf3O",
        "colab_type": "code",
        "colab": {
          "base_uri": "https://localhost:8080/",
          "height": 295
        },
        "outputId": "88078dd0-58c7-4650-b944-aa703381be59"
      },
      "source": [
        "plt.hist(Range_two_card, bins = np.arange(2, 14, 1), \n",
        "         density = True, cumulative = True)\n",
        "plt.title('Cumulative Frenquency of Range for two cards events')\n",
        "plt.xlabel('Rnage')\n",
        "plt.ylabel('Cumulative Frenquency')\n",
        "prob,left,rectangle = plt.hist(x=Range_two_card, bins=np.arange(2, 14, 1), \n",
        "                               density=True, histtype='bar', cumulative=True)\n",
        "for x, y in zip(left, prob):\n",
        "    plt.text(x + 1 / 2, y + 0.003, '%.2f' % y, ha='center', va='top')\n",
        "plt.show()"
      ],
      "execution_count": 11,
      "outputs": [
        {
          "output_type": "display_data",
          "data": {
            "image/png": "[encoded data removed]",
            "text/plain": [
              "<Figure size 432x288 with 1 Axes>"
            ]
          },
          "metadata": {
            "tags": []
          }
        }
      ]
    }
  ]
}